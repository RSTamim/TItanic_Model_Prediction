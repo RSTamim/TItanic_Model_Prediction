{
 "cells": [
  {
   "cell_type": "code",
   "execution_count": 1,
   "id": "c9d2dae1",
   "metadata": {
    "_cell_guid": "b1076dfc-b9ad-4769-8c92-a6c4dae69d19",
    "_uuid": "8f2839f25d086af736a60e9eeb907d3b93b6e0e5",
    "execution": {
     "iopub.execute_input": "2021-09-03T08:53:37.057115Z",
     "iopub.status.busy": "2021-09-03T08:53:37.055326Z",
     "iopub.status.idle": "2021-09-03T08:53:37.073128Z",
     "shell.execute_reply": "2021-09-03T08:53:37.071528Z",
     "shell.execute_reply.started": "2021-09-03T08:48:13.404100Z"
    },
    "papermill": {
     "duration": 0.044243,
     "end_time": "2021-09-03T08:53:37.073561",
     "exception": false,
     "start_time": "2021-09-03T08:53:37.029318",
     "status": "completed"
    },
    "tags": []
   },
   "outputs": [
    {
     "name": "stdout",
     "output_type": "stream",
     "text": [
      "/kaggle/input/titanic/train.csv\n",
      "/kaggle/input/titanic/test.csv\n",
      "/kaggle/input/titanic/gender_submission.csv\n"
     ]
    }
   ],
   "source": [
    "# This Python 3 environment comes with many helpful analytics libraries installed\n",
    "# It is defined by the kaggle/python Docker image: https://github.com/kaggle/docker-python\n",
    "# For example, here's several helpful packages to load\n",
    "\n",
    "import numpy as np # linear algebra\n",
    "import pandas as pd # data processing, CSV file I/O (e.g. pd.read_csv)\n",
    "\n",
    "# Input data files are available in the read-only \"../input/\" directory\n",
    "# For example, running this (by clicking run or pressing Shift+Enter) will list all files under the input directory\n",
    "\n",
    "import os\n",
    "for dirname, _, filenames in os.walk('/kaggle/input'):\n",
    "    for filename in filenames:\n",
    "        print(os.path.join(dirname, filename))\n",
    "\n",
    "# You can write up to 20GB to the current directory (/kaggle/working/) that gets preserved as output when you create a version using \"Save & Run All\" \n",
    "# You can also write temporary files to /kaggle/temp/, but they won't be saved outside of the current session"
   ]
  },
  {
   "cell_type": "code",
   "execution_count": 2,
   "id": "c4d82459",
   "metadata": {
    "execution": {
     "iopub.execute_input": "2021-09-03T08:53:37.122013Z",
     "iopub.status.busy": "2021-09-03T08:53:37.121298Z",
     "iopub.status.idle": "2021-09-03T08:53:37.251961Z",
     "shell.execute_reply": "2021-09-03T08:53:37.251426Z",
     "shell.execute_reply.started": "2021-09-03T08:48:18.502338Z"
    },
    "papermill": {
     "duration": 0.155486,
     "end_time": "2021-09-03T08:53:37.252110",
     "exception": false,
     "start_time": "2021-09-03T08:53:37.096624",
     "status": "completed"
    },
    "tags": []
   },
   "outputs": [
    {
     "data": {
      "text/html": [
       "<div>\n",
       "<style scoped>\n",
       "    .dataframe tbody tr th:only-of-type {\n",
       "        vertical-align: middle;\n",
       "    }\n",
       "\n",
       "    .dataframe tbody tr th {\n",
       "        vertical-align: top;\n",
       "    }\n",
       "\n",
       "    .dataframe thead th {\n",
       "        text-align: right;\n",
       "    }\n",
       "</style>\n",
       "<table border=\"1\" class=\"dataframe\">\n",
       "  <thead>\n",
       "    <tr style=\"text-align: right;\">\n",
       "      <th></th>\n",
       "      <th>PassengerId</th>\n",
       "      <th>Survived</th>\n",
       "      <th>Pclass</th>\n",
       "      <th>Name</th>\n",
       "      <th>Sex</th>\n",
       "      <th>Age</th>\n",
       "      <th>SibSp</th>\n",
       "      <th>Parch</th>\n",
       "      <th>Ticket</th>\n",
       "      <th>Fare</th>\n",
       "      <th>Cabin</th>\n",
       "      <th>Embarked</th>\n",
       "    </tr>\n",
       "  </thead>\n",
       "  <tbody>\n",
       "    <tr>\n",
       "      <th>0</th>\n",
       "      <td>1</td>\n",
       "      <td>0</td>\n",
       "      <td>3</td>\n",
       "      <td>Braund, Mr. Owen Harris</td>\n",
       "      <td>male</td>\n",
       "      <td>22.0</td>\n",
       "      <td>1</td>\n",
       "      <td>0</td>\n",
       "      <td>A/5 21171</td>\n",
       "      <td>7.2500</td>\n",
       "      <td>NaN</td>\n",
       "      <td>S</td>\n",
       "    </tr>\n",
       "    <tr>\n",
       "      <th>1</th>\n",
       "      <td>2</td>\n",
       "      <td>1</td>\n",
       "      <td>1</td>\n",
       "      <td>Cumings, Mrs. John Bradley (Florence Briggs Th...</td>\n",
       "      <td>female</td>\n",
       "      <td>38.0</td>\n",
       "      <td>1</td>\n",
       "      <td>0</td>\n",
       "      <td>PC 17599</td>\n",
       "      <td>71.2833</td>\n",
       "      <td>C85</td>\n",
       "      <td>C</td>\n",
       "    </tr>\n",
       "    <tr>\n",
       "      <th>2</th>\n",
       "      <td>3</td>\n",
       "      <td>1</td>\n",
       "      <td>3</td>\n",
       "      <td>Heikkinen, Miss. Laina</td>\n",
       "      <td>female</td>\n",
       "      <td>26.0</td>\n",
       "      <td>0</td>\n",
       "      <td>0</td>\n",
       "      <td>STON/O2. 3101282</td>\n",
       "      <td>7.9250</td>\n",
       "      <td>NaN</td>\n",
       "      <td>S</td>\n",
       "    </tr>\n",
       "    <tr>\n",
       "      <th>3</th>\n",
       "      <td>4</td>\n",
       "      <td>1</td>\n",
       "      <td>1</td>\n",
       "      <td>Futrelle, Mrs. Jacques Heath (Lily May Peel)</td>\n",
       "      <td>female</td>\n",
       "      <td>35.0</td>\n",
       "      <td>1</td>\n",
       "      <td>0</td>\n",
       "      <td>113803</td>\n",
       "      <td>53.1000</td>\n",
       "      <td>C123</td>\n",
       "      <td>S</td>\n",
       "    </tr>\n",
       "    <tr>\n",
       "      <th>4</th>\n",
       "      <td>5</td>\n",
       "      <td>0</td>\n",
       "      <td>3</td>\n",
       "      <td>Allen, Mr. William Henry</td>\n",
       "      <td>male</td>\n",
       "      <td>35.0</td>\n",
       "      <td>0</td>\n",
       "      <td>0</td>\n",
       "      <td>373450</td>\n",
       "      <td>8.0500</td>\n",
       "      <td>NaN</td>\n",
       "      <td>S</td>\n",
       "    </tr>\n",
       "  </tbody>\n",
       "</table>\n",
       "</div>"
      ],
      "text/plain": [
       "   PassengerId  Survived  Pclass  \\\n",
       "0            1         0       3   \n",
       "1            2         1       1   \n",
       "2            3         1       3   \n",
       "3            4         1       1   \n",
       "4            5         0       3   \n",
       "\n",
       "                                                Name     Sex   Age  SibSp  \\\n",
       "0                            Braund, Mr. Owen Harris    male  22.0      1   \n",
       "1  Cumings, Mrs. John Bradley (Florence Briggs Th...  female  38.0      1   \n",
       "2                             Heikkinen, Miss. Laina  female  26.0      0   \n",
       "3       Futrelle, Mrs. Jacques Heath (Lily May Peel)  female  35.0      1   \n",
       "4                           Allen, Mr. William Henry    male  35.0      0   \n",
       "\n",
       "   Parch            Ticket     Fare Cabin Embarked  \n",
       "0      0         A/5 21171   7.2500   NaN        S  \n",
       "1      0          PC 17599  71.2833   C85        C  \n",
       "2      0  STON/O2. 3101282   7.9250   NaN        S  \n",
       "3      0            113803  53.1000  C123        S  \n",
       "4      0            373450   8.0500   NaN        S  "
      ]
     },
     "execution_count": 2,
     "metadata": {},
     "output_type": "execute_result"
    }
   ],
   "source": [
    "qesem=pd.read_csv(\"../input/titanic/train.csv\")\n",
    "qesem.head()"
   ]
  },
  {
   "cell_type": "code",
   "execution_count": 3,
   "id": "82a93b2b",
   "metadata": {
    "execution": {
     "iopub.execute_input": "2021-09-03T08:53:37.300551Z",
     "iopub.status.busy": "2021-09-03T08:53:37.299595Z",
     "iopub.status.idle": "2021-09-03T08:53:37.303297Z",
     "shell.execute_reply": "2021-09-03T08:53:37.302676Z",
     "shell.execute_reply.started": "2021-09-03T08:48:27.164515Z"
    },
    "papermill": {
     "duration": 0.031892,
     "end_time": "2021-09-03T08:53:37.303473",
     "exception": false,
     "start_time": "2021-09-03T08:53:37.271581",
     "status": "completed"
    },
    "tags": []
   },
   "outputs": [],
   "source": [
    "features = [\"Pclass\", \"Sex\", \"SibSp\", \"Parch\"]\n",
    "X=qesem[features]"
   ]
  },
  {
   "cell_type": "code",
   "execution_count": 4,
   "id": "6a5133b7",
   "metadata": {
    "execution": {
     "iopub.execute_input": "2021-09-03T08:53:37.349520Z",
     "iopub.status.busy": "2021-09-03T08:53:37.348797Z",
     "iopub.status.idle": "2021-09-03T08:53:37.353898Z",
     "shell.execute_reply": "2021-09-03T08:53:37.353262Z",
     "shell.execute_reply.started": "2021-09-03T08:48:35.194051Z"
    },
    "papermill": {
     "duration": 0.02947,
     "end_time": "2021-09-03T08:53:37.354060",
     "exception": false,
     "start_time": "2021-09-03T08:53:37.324590",
     "status": "completed"
    },
    "tags": []
   },
   "outputs": [],
   "source": [
    "y=qesem.Survived"
   ]
  },
  {
   "cell_type": "code",
   "execution_count": 5,
   "id": "431d4be4",
   "metadata": {
    "execution": {
     "iopub.execute_input": "2021-09-03T08:53:37.412558Z",
     "iopub.status.busy": "2021-09-03T08:53:37.411300Z",
     "iopub.status.idle": "2021-09-03T08:53:37.421173Z",
     "shell.execute_reply": "2021-09-03T08:53:37.420481Z",
     "shell.execute_reply.started": "2021-09-03T08:48:44.389494Z"
    },
    "papermill": {
     "duration": 0.044741,
     "end_time": "2021-09-03T08:53:37.421368",
     "exception": false,
     "start_time": "2021-09-03T08:53:37.376627",
     "status": "completed"
    },
    "tags": []
   },
   "outputs": [],
   "source": [
    "X=pd.get_dummies(X)"
   ]
  },
  {
   "cell_type": "code",
   "execution_count": 6,
   "id": "1a9c3004",
   "metadata": {
    "execution": {
     "iopub.execute_input": "2021-09-03T08:53:37.471722Z",
     "iopub.status.busy": "2021-09-03T08:53:37.470991Z",
     "iopub.status.idle": "2021-09-03T08:53:38.453014Z",
     "shell.execute_reply": "2021-09-03T08:53:38.452455Z",
     "shell.execute_reply.started": "2021-09-03T08:48:53.030640Z"
    },
    "papermill": {
     "duration": 1.010214,
     "end_time": "2021-09-03T08:53:38.453173",
     "exception": false,
     "start_time": "2021-09-03T08:53:37.442959",
     "status": "completed"
    },
    "tags": []
   },
   "outputs": [],
   "source": [
    "from sklearn.model_selection import train_test_split"
   ]
  },
  {
   "cell_type": "code",
   "execution_count": 7,
   "id": "d0c80e49",
   "metadata": {
    "execution": {
     "iopub.execute_input": "2021-09-03T08:53:38.513591Z",
     "iopub.status.busy": "2021-09-03T08:53:38.512846Z",
     "iopub.status.idle": "2021-09-03T08:53:38.516875Z",
     "shell.execute_reply": "2021-09-03T08:53:38.517811Z",
     "shell.execute_reply.started": "2021-09-03T08:49:04.986345Z"
    },
    "papermill": {
     "duration": 0.040974,
     "end_time": "2021-09-03T08:53:38.519518",
     "exception": false,
     "start_time": "2021-09-03T08:53:38.478544",
     "status": "completed"
    },
    "tags": []
   },
   "outputs": [],
   "source": [
    "X_train, X_test, y_train, y_test= train_test_split(X,y, test_size=0.25)"
   ]
  },
  {
   "cell_type": "markdown",
   "id": "38b5737e",
   "metadata": {
    "papermill": {
     "duration": 0.019062,
     "end_time": "2021-09-03T08:53:38.561073",
     "exception": false,
     "start_time": "2021-09-03T08:53:38.542011",
     "status": "completed"
    },
    "tags": []
   },
   "source": [
    "# **train model**\n"
   ]
  },
  {
   "cell_type": "code",
   "execution_count": 8,
   "id": "7d163efb",
   "metadata": {
    "execution": {
     "iopub.execute_input": "2021-09-03T08:53:38.604029Z",
     "iopub.status.busy": "2021-09-03T08:53:38.603373Z",
     "iopub.status.idle": "2021-09-03T08:53:38.848664Z",
     "shell.execute_reply": "2021-09-03T08:53:38.849156Z",
     "shell.execute_reply.started": "2021-09-03T08:50:12.547585Z"
    },
    "papermill": {
     "duration": 0.268907,
     "end_time": "2021-09-03T08:53:38.849341",
     "exception": false,
     "start_time": "2021-09-03T08:53:38.580434",
     "status": "completed"
    },
    "tags": []
   },
   "outputs": [],
   "source": [
    "from sklearn.ensemble import RandomForestClassifier"
   ]
  },
  {
   "cell_type": "code",
   "execution_count": 9,
   "id": "190fe811",
   "metadata": {
    "execution": {
     "iopub.execute_input": "2021-09-03T08:53:38.891814Z",
     "iopub.status.busy": "2021-09-03T08:53:38.891198Z",
     "iopub.status.idle": "2021-09-03T08:53:38.895365Z",
     "shell.execute_reply": "2021-09-03T08:53:38.895873Z",
     "shell.execute_reply.started": "2021-09-03T08:50:20.854664Z"
    },
    "papermill": {
     "duration": 0.027112,
     "end_time": "2021-09-03T08:53:38.896047",
     "exception": false,
     "start_time": "2021-09-03T08:53:38.868935",
     "status": "completed"
    },
    "tags": []
   },
   "outputs": [],
   "source": [
    "model=RandomForestClassifier(n_estimators=100, \n",
    "                             max_depth=5, \n",
    "                             random_state=1)"
   ]
  },
  {
   "cell_type": "code",
   "execution_count": 10,
   "id": "6a8eadcd",
   "metadata": {
    "execution": {
     "iopub.execute_input": "2021-09-03T08:53:38.938295Z",
     "iopub.status.busy": "2021-09-03T08:53:38.937688Z",
     "iopub.status.idle": "2021-09-03T08:53:39.158929Z",
     "shell.execute_reply": "2021-09-03T08:53:39.159427Z",
     "shell.execute_reply.started": "2021-09-03T08:50:28.855860Z"
    },
    "papermill": {
     "duration": 0.24417,
     "end_time": "2021-09-03T08:53:39.159614",
     "exception": false,
     "start_time": "2021-09-03T08:53:38.915444",
     "status": "completed"
    },
    "tags": []
   },
   "outputs": [
    {
     "data": {
      "text/plain": [
       "RandomForestClassifier(max_depth=5, random_state=1)"
      ]
     },
     "execution_count": 10,
     "metadata": {},
     "output_type": "execute_result"
    }
   ],
   "source": [
    "model.fit(X_train,y_train)"
   ]
  },
  {
   "cell_type": "markdown",
   "id": "1dcc6423",
   "metadata": {
    "papermill": {
     "duration": 0.019851,
     "end_time": "2021-09-03T08:53:39.199836",
     "exception": false,
     "start_time": "2021-09-03T08:53:39.179985",
     "status": "completed"
    },
    "tags": []
   },
   "source": [
    "# evaluate model"
   ]
  },
  {
   "cell_type": "code",
   "execution_count": 11,
   "id": "775007cd",
   "metadata": {
    "execution": {
     "iopub.execute_input": "2021-09-03T08:53:39.243681Z",
     "iopub.status.busy": "2021-09-03T08:53:39.243046Z",
     "iopub.status.idle": "2021-09-03T08:53:39.265090Z",
     "shell.execute_reply": "2021-09-03T08:53:39.265582Z",
     "shell.execute_reply.started": "2021-09-03T08:50:51.889900Z"
    },
    "papermill": {
     "duration": 0.045808,
     "end_time": "2021-09-03T08:53:39.265756",
     "exception": false,
     "start_time": "2021-09-03T08:53:39.219948",
     "status": "completed"
    },
    "tags": []
   },
   "outputs": [
    {
     "data": {
      "text/plain": [
       "0.820627802690583"
      ]
     },
     "execution_count": 11,
     "metadata": {},
     "output_type": "execute_result"
    }
   ],
   "source": [
    "model.score(X_test,y_test)"
   ]
  },
  {
   "cell_type": "markdown",
   "id": "aa1dcceb",
   "metadata": {
    "papermill": {
     "duration": 0.020442,
     "end_time": "2021-09-03T08:53:39.306533",
     "exception": false,
     "start_time": "2021-09-03T08:53:39.286091",
     "status": "completed"
    },
    "tags": []
   },
   "source": []
  },
  {
   "cell_type": "markdown",
   "id": "bef7003e",
   "metadata": {
    "papermill": {
     "duration": 0.020475,
     "end_time": "2021-09-03T08:53:39.347230",
     "exception": false,
     "start_time": "2021-09-03T08:53:39.326755",
     "status": "completed"
    },
    "tags": []
   },
   "source": [
    "# Prediction"
   ]
  },
  {
   "cell_type": "code",
   "execution_count": 12,
   "id": "e657c21b",
   "metadata": {
    "execution": {
     "iopub.execute_input": "2021-09-03T08:53:39.395338Z",
     "iopub.status.busy": "2021-09-03T08:53:39.394709Z",
     "iopub.status.idle": "2021-09-03T08:53:39.414274Z",
     "shell.execute_reply": "2021-09-03T08:53:39.414814Z",
     "shell.execute_reply.started": "2021-09-03T08:51:14.316364Z"
    },
    "papermill": {
     "duration": 0.047787,
     "end_time": "2021-09-03T08:53:39.414987",
     "exception": false,
     "start_time": "2021-09-03T08:53:39.367200",
     "status": "completed"
    },
    "tags": []
   },
   "outputs": [],
   "source": [
    "prediction=model.predict(X)"
   ]
  },
  {
   "cell_type": "code",
   "execution_count": 13,
   "id": "5da77ada",
   "metadata": {
    "execution": {
     "iopub.execute_input": "2021-09-03T08:53:39.458955Z",
     "iopub.status.busy": "2021-09-03T08:53:39.458288Z",
     "iopub.status.idle": "2021-09-03T08:53:39.467744Z",
     "shell.execute_reply": "2021-09-03T08:53:39.468261Z",
     "shell.execute_reply.started": "2021-09-03T08:51:23.488396Z"
    },
    "papermill": {
     "duration": 0.033239,
     "end_time": "2021-09-03T08:53:39.468460",
     "exception": false,
     "start_time": "2021-09-03T08:53:39.435221",
     "status": "completed"
    },
    "tags": []
   },
   "outputs": [
    {
     "data": {
      "text/plain": [
       "array([0, 1, 1, 1, 0, 0, 0, 0, 1, 1, 1, 1, 0, 0, 1, 1, 0, 0, 1, 1, 0, 0,\n",
       "       1, 0, 0, 0, 0, 0, 1, 0, 0, 1, 1, 0, 0, 0, 0, 0, 1, 1, 1, 1, 0, 1,\n",
       "       1, 0, 0, 1, 0, 1, 0, 0, 1, 1, 0, 0, 1, 0, 1, 0, 0, 1, 0, 0, 0, 0,\n",
       "       1, 0, 0, 0, 0, 0, 0, 0, 0, 0, 0, 0, 0, 1, 0, 0, 1, 0, 1, 0, 0, 0,\n",
       "       1, 0, 0, 0, 0, 0, 0, 0, 0, 0, 1, 0, 1, 0, 0, 0, 0, 0, 1, 0, 0, 1,\n",
       "       0, 1, 0, 1, 1, 0, 0, 0, 0, 0, 0, 0, 0, 1, 0, 0, 0, 0, 1, 0, 0, 0,\n",
       "       1, 1, 0, 0, 1, 0, 0, 0, 1, 1, 1, 0, 0, 1, 0, 0, 0, 0, 0, 1, 0, 0,\n",
       "       0, 0, 1, 0, 0, 0, 0, 1, 0, 0, 0, 0, 1, 0, 0, 0, 0, 0, 1, 0, 0, 0,\n",
       "       0, 1, 0, 0, 0, 0, 0, 0, 1, 0, 1, 0, 0, 0, 1, 0, 1, 1, 1, 1, 0, 0,\n",
       "       1, 1, 0, 0, 0, 0, 0, 1, 0, 0, 1, 0, 0, 1, 0, 0, 0, 1, 1, 0, 1, 0,\n",
       "       0, 0, 0, 0, 0, 0, 0, 0, 0, 0, 1, 0, 0, 0, 0, 1, 0, 1, 0, 0, 1, 1,\n",
       "       0, 0, 0, 1, 1, 1, 0, 0, 0, 1, 0, 0, 1, 1, 1, 1, 1, 1, 0, 0, 0, 0,\n",
       "       1, 0, 0, 0, 1, 1, 0, 0, 1, 0, 1, 1, 1, 0, 0, 1, 0, 0, 0, 0, 0, 0,\n",
       "       0, 0, 0, 1, 1, 1, 0, 1, 0, 0, 0, 1, 0, 1, 1, 0, 0, 1, 0, 1, 1, 1,\n",
       "       0, 1, 1, 1, 1, 0, 1, 1, 1, 0, 1, 1, 0, 0, 1, 1, 0, 1, 0, 1, 1, 1,\n",
       "       1, 0, 0, 0, 1, 0, 0, 1, 0, 0, 1, 1, 0, 0, 0, 1, 1, 1, 0, 0, 0, 0,\n",
       "       0, 0, 0, 0, 1, 1, 1, 1, 0, 0, 1, 0, 0, 0, 1, 1, 1, 1, 0, 0, 0, 0,\n",
       "       0, 1, 1, 0, 0, 0, 1, 1, 0, 1, 0, 0, 0, 1, 0, 1, 1, 0, 0, 1, 1, 0,\n",
       "       1, 0, 0, 1, 0, 0, 1, 0, 1, 0, 0, 1, 0, 0, 0, 0, 1, 0, 0, 1, 1, 1,\n",
       "       0, 1, 0, 0, 0, 1, 0, 0, 1, 1, 0, 0, 0, 1, 1, 0, 0, 1, 0, 1, 1, 0,\n",
       "       1, 0, 0, 1, 0, 0, 1, 0, 1, 0, 0, 0, 0, 0, 0, 0, 0, 1, 1, 0, 0, 0,\n",
       "       0, 0, 0, 0, 0, 0, 0, 1, 0, 0, 1, 1, 1, 0, 0, 0, 0, 1, 0, 0, 0, 1,\n",
       "       0, 0, 1, 0, 0, 0, 0, 0, 0, 0, 0, 0, 1, 0, 1, 0, 0, 1, 1, 1, 1, 0,\n",
       "       1, 0, 0, 0, 0, 0, 0, 1, 0, 0, 1, 0, 1, 0, 1, 0, 0, 1, 0, 0, 1, 0,\n",
       "       0, 0, 1, 0, 0, 1, 1, 1, 0, 1, 0, 1, 1, 0, 0, 0, 0, 0, 1, 0, 0, 1,\n",
       "       0, 0, 0, 0, 1, 0, 1, 0, 1, 1, 0, 0, 0, 0, 1, 0, 0, 0, 0, 0, 0, 1,\n",
       "       0, 1, 0, 0, 1, 1, 1, 0, 1, 1, 0, 0, 0, 1, 0, 0, 0, 0, 0, 1, 0, 1,\n",
       "       0, 0, 1, 0, 0, 0, 1, 0, 0, 0, 0, 0, 0, 0, 1, 1, 0, 0, 1, 0, 0, 1,\n",
       "       0, 1, 1, 0, 0, 0, 0, 0, 0, 0, 0, 1, 0, 0, 0, 0, 0, 0, 0, 1, 0, 1,\n",
       "       0, 0, 0, 1, 0, 0, 1, 0, 0, 0, 0, 1, 0, 1, 0, 1, 1, 0, 0, 1, 0, 0,\n",
       "       1, 0, 0, 0, 0, 0, 0, 0, 0, 1, 1, 0, 0, 0, 0, 0, 0, 1, 0, 0, 1, 0,\n",
       "       0, 0, 1, 0, 0, 0, 0, 1, 0, 1, 0, 0, 0, 0, 0, 1, 0, 0, 1, 0, 1, 0,\n",
       "       0, 0, 1, 0, 1, 0, 1, 0, 0, 0, 0, 0, 1, 1, 0, 0, 1, 0, 0, 0, 0, 0,\n",
       "       1, 1, 0, 1, 1, 0, 0, 0, 0, 0, 0, 0, 0, 0, 0, 0, 1, 0, 0, 0, 0, 1,\n",
       "       0, 0, 1, 0, 0, 0, 1, 1, 0, 0, 0, 1, 0, 0, 0, 1, 0, 1, 0, 1, 0, 0,\n",
       "       0, 0, 1, 0, 1, 0, 0, 1, 0, 1, 1, 1, 0, 0, 0, 0, 1, 0, 0, 0, 0, 0,\n",
       "       0, 0, 0, 0, 1, 1, 0, 1, 0, 1, 1, 0, 0, 0, 0, 1, 0, 1, 0, 0, 0, 0,\n",
       "       0, 0, 1, 1, 0, 0, 1, 0, 0, 1, 0, 0, 0, 0, 0, 1, 1, 1, 0, 0, 0, 1,\n",
       "       0, 0, 0, 0, 0, 0, 1, 0, 0, 0, 0, 0, 0, 1, 0, 0, 1, 1, 1, 1, 1, 0,\n",
       "       1, 0, 0, 0, 1, 0, 0, 1, 1, 0, 0, 0, 0, 1, 0, 0, 1, 1, 0, 0, 0, 1,\n",
       "       1, 0, 1, 0, 0, 0, 0, 1, 0, 0, 0])"
      ]
     },
     "execution_count": 13,
     "metadata": {},
     "output_type": "execute_result"
    }
   ],
   "source": [
    "prediction"
   ]
  },
  {
   "cell_type": "code",
   "execution_count": 14,
   "id": "93d77766",
   "metadata": {
    "execution": {
     "iopub.execute_input": "2021-09-03T08:53:39.513779Z",
     "iopub.status.busy": "2021-09-03T08:53:39.513138Z",
     "iopub.status.idle": "2021-09-03T08:53:39.520207Z",
     "shell.execute_reply": "2021-09-03T08:53:39.519661Z",
     "shell.execute_reply.started": "2021-09-03T08:51:54.233251Z"
    },
    "papermill": {
     "duration": 0.031313,
     "end_time": "2021-09-03T08:53:39.520395",
     "exception": false,
     "start_time": "2021-09-03T08:53:39.489082",
     "status": "completed"
    },
    "tags": []
   },
   "outputs": [],
   "source": [
    "output=pd.DataFrame({'PassengerId': qesem.PassengerId,'Survived': prediction})"
   ]
  },
  {
   "cell_type": "code",
   "execution_count": 15,
   "id": "f5dec269",
   "metadata": {
    "execution": {
     "iopub.execute_input": "2021-09-03T08:53:39.564980Z",
     "iopub.status.busy": "2021-09-03T08:53:39.564302Z",
     "iopub.status.idle": "2021-09-03T08:53:39.575248Z",
     "shell.execute_reply": "2021-09-03T08:53:39.575872Z",
     "shell.execute_reply.started": "2021-09-03T08:52:00.951468Z"
    },
    "papermill": {
     "duration": 0.034977,
     "end_time": "2021-09-03T08:53:39.576040",
     "exception": false,
     "start_time": "2021-09-03T08:53:39.541063",
     "status": "completed"
    },
    "tags": []
   },
   "outputs": [
    {
     "data": {
      "text/html": [
       "<div>\n",
       "<style scoped>\n",
       "    .dataframe tbody tr th:only-of-type {\n",
       "        vertical-align: middle;\n",
       "    }\n",
       "\n",
       "    .dataframe tbody tr th {\n",
       "        vertical-align: top;\n",
       "    }\n",
       "\n",
       "    .dataframe thead th {\n",
       "        text-align: right;\n",
       "    }\n",
       "</style>\n",
       "<table border=\"1\" class=\"dataframe\">\n",
       "  <thead>\n",
       "    <tr style=\"text-align: right;\">\n",
       "      <th></th>\n",
       "      <th>PassengerId</th>\n",
       "      <th>Survived</th>\n",
       "    </tr>\n",
       "  </thead>\n",
       "  <tbody>\n",
       "    <tr>\n",
       "      <th>0</th>\n",
       "      <td>1</td>\n",
       "      <td>0</td>\n",
       "    </tr>\n",
       "    <tr>\n",
       "      <th>1</th>\n",
       "      <td>2</td>\n",
       "      <td>1</td>\n",
       "    </tr>\n",
       "    <tr>\n",
       "      <th>2</th>\n",
       "      <td>3</td>\n",
       "      <td>1</td>\n",
       "    </tr>\n",
       "    <tr>\n",
       "      <th>3</th>\n",
       "      <td>4</td>\n",
       "      <td>1</td>\n",
       "    </tr>\n",
       "    <tr>\n",
       "      <th>4</th>\n",
       "      <td>5</td>\n",
       "      <td>0</td>\n",
       "    </tr>\n",
       "  </tbody>\n",
       "</table>\n",
       "</div>"
      ],
      "text/plain": [
       "   PassengerId  Survived\n",
       "0            1         0\n",
       "1            2         1\n",
       "2            3         1\n",
       "3            4         1\n",
       "4            5         0"
      ]
     },
     "execution_count": 15,
     "metadata": {},
     "output_type": "execute_result"
    }
   ],
   "source": [
    "output.head()"
   ]
  },
  {
   "cell_type": "code",
   "execution_count": 16,
   "id": "17bfc935",
   "metadata": {
    "execution": {
     "iopub.execute_input": "2021-09-03T08:53:39.623812Z",
     "iopub.status.busy": "2021-09-03T08:53:39.623145Z",
     "iopub.status.idle": "2021-09-03T08:53:39.634183Z",
     "shell.execute_reply": "2021-09-03T08:53:39.633677Z",
     "shell.execute_reply.started": "2021-09-03T08:52:15.744676Z"
    },
    "papermill": {
     "duration": 0.0363,
     "end_time": "2021-09-03T08:53:39.634334",
     "exception": false,
     "start_time": "2021-09-03T08:53:39.598034",
     "status": "completed"
    },
    "tags": []
   },
   "outputs": [],
   "source": [
    "output.to_csv('my_first_model.csv', index=False)"
   ]
  },
  {
   "cell_type": "code",
   "execution_count": 17,
   "id": "9a525ea2",
   "metadata": {
    "execution": {
     "iopub.execute_input": "2021-09-03T08:53:39.681635Z",
     "iopub.status.busy": "2021-09-03T08:53:39.680981Z",
     "iopub.status.idle": "2021-09-03T08:53:39.696476Z",
     "shell.execute_reply": "2021-09-03T08:53:39.695884Z",
     "shell.execute_reply.started": "2021-09-03T08:52:26.312011Z"
    },
    "papermill": {
     "duration": 0.040906,
     "end_time": "2021-09-03T08:53:39.696620",
     "exception": false,
     "start_time": "2021-09-03T08:53:39.655714",
     "status": "completed"
    },
    "tags": []
   },
   "outputs": [],
   "source": [
    "test=pd.read_csv(\"../input/titanic/test.csv\")"
   ]
  },
  {
   "cell_type": "code",
   "execution_count": 18,
   "id": "2266f5f5",
   "metadata": {
    "execution": {
     "iopub.execute_input": "2021-09-03T08:53:39.750841Z",
     "iopub.status.busy": "2021-09-03T08:53:39.750121Z",
     "iopub.status.idle": "2021-09-03T08:53:39.755228Z",
     "shell.execute_reply": "2021-09-03T08:53:39.754619Z",
     "shell.execute_reply.started": "2021-09-03T08:52:34.854764Z"
    },
    "papermill": {
     "duration": 0.037315,
     "end_time": "2021-09-03T08:53:39.755364",
     "exception": false,
     "start_time": "2021-09-03T08:53:39.718049",
     "status": "completed"
    },
    "tags": []
   },
   "outputs": [],
   "source": [
    "Xa_test = pd.get_dummies(test[features])"
   ]
  },
  {
   "cell_type": "code",
   "execution_count": 19,
   "id": "98a27b72",
   "metadata": {
    "execution": {
     "iopub.execute_input": "2021-09-03T08:53:39.801370Z",
     "iopub.status.busy": "2021-09-03T08:53:39.800760Z",
     "iopub.status.idle": "2021-09-03T08:53:39.820823Z",
     "shell.execute_reply": "2021-09-03T08:53:39.821330Z",
     "shell.execute_reply.started": "2021-09-03T08:52:42.348261Z"
    },
    "papermill": {
     "duration": 0.044957,
     "end_time": "2021-09-03T08:53:39.821579",
     "exception": false,
     "start_time": "2021-09-03T08:53:39.776622",
     "status": "completed"
    },
    "tags": []
   },
   "outputs": [],
   "source": [
    "Xa_test_result= model.predict(Xa_test)"
   ]
  },
  {
   "cell_type": "code",
   "execution_count": 20,
   "id": "67d6e6d2",
   "metadata": {
    "execution": {
     "iopub.execute_input": "2021-09-03T08:53:39.867548Z",
     "iopub.status.busy": "2021-09-03T08:53:39.866877Z",
     "iopub.status.idle": "2021-09-03T08:53:39.877067Z",
     "shell.execute_reply": "2021-09-03T08:53:39.876433Z",
     "shell.execute_reply.started": "2021-09-03T08:52:52.202588Z"
    },
    "papermill": {
     "duration": 0.034373,
     "end_time": "2021-09-03T08:53:39.877204",
     "exception": false,
     "start_time": "2021-09-03T08:53:39.842831",
     "status": "completed"
    },
    "tags": []
   },
   "outputs": [
    {
     "name": "stdout",
     "output_type": "stream",
     "text": [
      "Your submission was successfully saved!\n"
     ]
    }
   ],
   "source": [
    "output = pd.DataFrame({'PassengerId': test.PassengerId, 'Survived': Xa_test_result})\n",
    "output.to_csv('my_submission.csv', index=False)\n",
    "print(\"Your submission was successfully saved!\")"
   ]
  }
 ],
 "metadata": {
  "kernelspec": {
   "display_name": "Python 3",
   "language": "python",
   "name": "python3"
  },
  "language_info": {
   "codemirror_mode": {
    "name": "ipython",
    "version": 3
   },
   "file_extension": ".py",
   "mimetype": "text/x-python",
   "name": "python",
   "nbconvert_exporter": "python",
   "pygments_lexer": "ipython3",
   "version": "3.7.10"
  },
  "papermill": {
   "default_parameters": {},
   "duration": 12.923388,
   "end_time": "2021-09-03T08:53:41.606417",
   "environment_variables": {},
   "exception": null,
   "input_path": "__notebook__.ipynb",
   "output_path": "__notebook__.ipynb",
   "parameters": {},
   "start_time": "2021-09-03T08:53:28.683029",
   "version": "2.3.3"
  }
 },
 "nbformat": 4,
 "nbformat_minor": 5
}
